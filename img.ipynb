{
 "cells": [
  {
   "cell_type": "code",
   "execution_count": 2,
   "metadata": {},
   "outputs": [
    {
     "name": "stdout",
     "output_type": "stream",
     "text": [
      "Image uploaded successfully!\n",
      "Image uploaded successfully!\n"
     ]
    }
   ],
   "source": [
    "import requests\n",
    "def upload_image(image_file_path):\n",
    "    url = 'https://api.startupindia.gov.in/sih/api/file/user/image/Startup'\n",
    "    \n",
    "    headers = {\n",
    "        'User-Agent': 'Mozilla/5.0 (Windows NT 10.0; Win64; x64; rv:109.0) Gecko/20100101 Firefox/115.0',\n",
    "        'Accept': '*/*',\n",
    "        'Accept-Language': 'en-US,en;q=0.5',\n",
    "        'Accept-Encoding': 'gzip, deflate',\n",
    "        'Origin': 'https://www.startupindia.gov.in',\n",
    "        'Referer': 'https://www.startupindia.gov.in/',\n",
    "        'Sec-Fetch-Dest': 'empty',\n",
    "        'Sec-Fetch-Mode': 'cors',\n",
    "        'Sec-Fetch-Site': 'same-site',\n",
    "        'Te': 'trailers',\n",
    "    }\n",
    "\n",
    "    try:\n",
    "        with open(image_file_path, 'rb') as file:\n",
    "            files = {'file': (image_file_path, file, 'image/png')}\n",
    "\n",
    "            response = requests.post(url, headers=headers, files=files)\n",
    "            response.raise_for_status()  # Check if the request was successful\n",
    "            print(\"Image uploaded successfully!\")\n",
    "    except FileNotFoundError:\n",
    "        print(\"Image file not found.\")\n",
    "    except requests.exceptions.RequestException as e:\n",
    "        print(f\"Failed to upload the image: {e}\")\n",
    "\n",
    "# Replace 'C:\\\\Users\\\\varsha gupta\\\\Automation\\\\pic.png' with the actual path to the image file you want to upload\n",
    "image_file_path = r'C:\\Users\\varsha gupta\\Automation\\pic.png'\n",
    "\n",
    "upload_image(image_file_path)\n",
    "import requests\n",
    "\n",
    "def upload_image(image_file_path):\n",
    "    url = 'https://api.startupindia.gov.in/sih/api/file/user/image/Startup'\n",
    "    \n",
    "    headers = {\n",
    "        'User-Agent': 'Mozilla/5.0 (Windows NT 10.0; Win64; x64; rv:109.0) Gecko/20100101 Firefox/115.0',\n",
    "        'Accept': '*/*',\n",
    "        'Accept-Language': 'en-US,en;q=0.5',\n",
    "        'Accept-Encoding': 'gzip, deflate',\n",
    "        'Origin': 'https://www.startupindia.gov.in',\n",
    "        'Referer': 'https://www.startupindia.gov.in/',\n",
    "        'Sec-Fetch-Dest': 'empty',\n",
    "        'Sec-Fetch-Mode': 'cors',\n",
    "        'Sec-Fetch-Site': 'same-site',\n",
    "        'Te': 'trailers',\n",
    "    }\n",
    "\n",
    "    try:\n",
    "        with open(image_file_path, 'rb') as file:\n",
    "            files = {'file': (image_file_path, file, 'image/png')}\n",
    "\n",
    "            response = requests.post(url, headers=headers, files=files)\n",
    "            if response.status_code == 200:\n",
    "                print(\"Image uploaded successfully!\")\n",
    "            else:\n",
    "                print(f\"Failed to upload the image. Status code: {response.status_code}\")\n",
    "    except FileNotFoundError:\n",
    "        print(\"Image file not found.\")\n",
    "    except requests.exceptions.RequestException as e:\n",
    "        print(f\"Failed to upload the image: {e}\")\n",
    "\n",
    "# Replace 'C:\\\\Users\\\\varsha gupta\\\\Automation\\\\pic.png' with the actual path to the image file you want to upload\n",
    "image_file_path = r'C:\\Users\\varsha gupta\\Automation\\pic.png'\n",
    "\n",
    "upload_image(image_file_path)\n"
   ]
  },
  {
   "cell_type": "code",
   "execution_count": null,
   "metadata": {},
   "outputs": [],
   "source": []
  },
  {
   "cell_type": "code",
   "execution_count": null,
   "metadata": {},
   "outputs": [],
   "source": []
  },
  {
   "cell_type": "code",
   "execution_count": null,
   "metadata": {},
   "outputs": [],
   "source": []
  }
 ],
 "metadata": {
  "kernelspec": {
   "display_name": "Python 3",
   "language": "python",
   "name": "python3"
  },
  "language_info": {
   "codemirror_mode": {
    "name": "ipython",
    "version": 3
   },
   "file_extension": ".py",
   "mimetype": "text/x-python",
   "name": "python",
   "nbconvert_exporter": "python",
   "pygments_lexer": "ipython3",
   "version": "3.11.3"
  },
  "orig_nbformat": 4
 },
 "nbformat": 4,
 "nbformat_minor": 2
}
